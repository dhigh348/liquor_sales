{
  "nbformat": 4,
  "nbformat_minor": 0,
  "metadata": {
    "colab": {
      "name": "liquor_sales.ipynb",
      "provenance": [],
      "collapsed_sections": [],
      "mount_file_id": "1Z1192IOGNT7iSWasgO9tFAEaSWg3mhmY",
      "authorship_tag": "ABX9TyOtcUE3z3sVwuaATqSTqmAO",
      "include_colab_link": true
    },
    "kernelspec": {
      "name": "python3",
      "display_name": "Python 3"
    }
  },
  "cells": [
    {
      "cell_type": "markdown",
      "metadata": {
        "id": "view-in-github",
        "colab_type": "text"
      },
      "source": [
        "<a href=\"https://colab.research.google.com/github/dhigh348/liquor_sales/blob/master/liquor_sales.ipynb\" target=\"_parent\"><img src=\"https://colab.research.google.com/assets/colab-badge.svg\" alt=\"Open In Colab\"/></a>"
      ]
    },
    {
      "cell_type": "code",
      "metadata": {
        "id": "ZjkZdiZFiheI",
        "colab_type": "code",
        "colab": {}
      },
      "source": [
        "import numpy as np\n",
        "import pandas as pd\n",
        "import matplotlib.pyplot as plt\n",
        "\n",
        "import tensorflow as tf\n",
        "from tensorflow import keras\n",
        "\n",
        "plt.rcParams['figure.figsize'] = [15, 8]"
      ],
      "execution_count": null,
      "outputs": []
    },
    {
      "cell_type": "code",
      "metadata": {
        "id": "kBtmfr33ir-7",
        "colab_type": "code",
        "colab": {}
      },
      "source": [
        "dir = '/content/drive/My Drive/BeerData/'"
      ],
      "execution_count": null,
      "outputs": []
    },
    {
      "cell_type": "code",
      "metadata": {
        "id": "su4G5FM5jjvE",
        "colab_type": "code",
        "colab": {}
      },
      "source": [
        "df = pd.read_csv(dir+'liquor_sales.csv')"
      ],
      "execution_count": null,
      "outputs": []
    },
    {
      "cell_type": "code",
      "metadata": {
        "id": "cDFSI5uk-LN1",
        "colab_type": "code",
        "colab": {}
      },
      "source": [
        "def edit_columns(df: pd.DataFrame) -> pd.DataFrame:\n",
        "    \"\"\"\n",
        "    Function takes a dataframe and edits the column names for standardization. \n",
        "    This includes removing spaces and replacing them with underscores. Also,\n",
        "    the titles are lowercased.\n",
        "    \n",
        "    :args: dataframe to standardize the columns\n",
        "    :returns: dataframe with the column names standardized\n",
        "    \"\"\"\n",
        "    lower_cols = [col.lower().replace(' ', '_') for col in df.columns]\n",
        "    df.columns = lower_cols\n",
        "    return df"
      ],
      "execution_count": null,
      "outputs": []
    },
    {
      "cell_type": "code",
      "metadata": {
        "id": "yi_MOse964Wv",
        "colab_type": "code",
        "colab": {}
      },
      "source": [
        "# changing the names of the columns \n",
        "df = edit_columns(df)"
      ],
      "execution_count": null,
      "outputs": []
    },
    {
      "cell_type": "code",
      "metadata": {
        "id": "0fYr90DDj6Ch",
        "colab_type": "code",
        "colab": {
          "base_uri": "https://localhost:8080/",
          "height": 297
        },
        "outputId": "20e7f642-bb9d-4118-e28a-b8e2624a02f2"
      },
      "source": [
        "df.describe()"
      ],
      "execution_count": null,
      "outputs": [
        {
          "output_type": "execute_result",
          "data": {
            "text/html": [
              "<div>\n",
              "<style scoped>\n",
              "    .dataframe tbody tr th:only-of-type {\n",
              "        vertical-align: middle;\n",
              "    }\n",
              "\n",
              "    .dataframe tbody tr th {\n",
              "        vertical-align: top;\n",
              "    }\n",
              "\n",
              "    .dataframe thead th {\n",
              "        text-align: right;\n",
              "    }\n",
              "</style>\n",
              "<table border=\"1\" class=\"dataframe\">\n",
              "  <thead>\n",
              "    <tr style=\"text-align: right;\">\n",
              "      <th></th>\n",
              "      <th>year</th>\n",
              "      <th>month</th>\n",
              "      <th>retail_sales</th>\n",
              "      <th>retail_transfers</th>\n",
              "      <th>warehouse_sales</th>\n",
              "    </tr>\n",
              "  </thead>\n",
              "  <tbody>\n",
              "    <tr>\n",
              "      <th>count</th>\n",
              "      <td>115255.000000</td>\n",
              "      <td>115255.000000</td>\n",
              "      <td>115255.000000</td>\n",
              "      <td>115255.000000</td>\n",
              "      <td>115255.000000</td>\n",
              "    </tr>\n",
              "    <tr>\n",
              "      <th>mean</th>\n",
              "      <td>2017.115787</td>\n",
              "      <td>7.656622</td>\n",
              "      <td>6.633938</td>\n",
              "      <td>7.317510</td>\n",
              "      <td>22.896380</td>\n",
              "    </tr>\n",
              "    <tr>\n",
              "      <th>std</th>\n",
              "      <td>0.319970</td>\n",
              "      <td>3.396638</td>\n",
              "      <td>29.360282</td>\n",
              "      <td>31.305271</td>\n",
              "      <td>243.364269</td>\n",
              "    </tr>\n",
              "    <tr>\n",
              "      <th>min</th>\n",
              "      <td>2017.000000</td>\n",
              "      <td>1.000000</td>\n",
              "      <td>-6.490000</td>\n",
              "      <td>-27.660000</td>\n",
              "      <td>-4996.000000</td>\n",
              "    </tr>\n",
              "    <tr>\n",
              "      <th>25%</th>\n",
              "      <td>2017.000000</td>\n",
              "      <td>5.000000</td>\n",
              "      <td>0.000000</td>\n",
              "      <td>0.000000</td>\n",
              "      <td>0.000000</td>\n",
              "    </tr>\n",
              "    <tr>\n",
              "      <th>50%</th>\n",
              "      <td>2017.000000</td>\n",
              "      <td>8.000000</td>\n",
              "      <td>0.320000</td>\n",
              "      <td>0.000000</td>\n",
              "      <td>1.000000</td>\n",
              "    </tr>\n",
              "    <tr>\n",
              "      <th>75%</th>\n",
              "      <td>2017.000000</td>\n",
              "      <td>11.000000</td>\n",
              "      <td>3.270000</td>\n",
              "      <td>4.000000</td>\n",
              "      <td>4.000000</td>\n",
              "    </tr>\n",
              "    <tr>\n",
              "      <th>max</th>\n",
              "      <td>2018.000000</td>\n",
              "      <td>12.000000</td>\n",
              "      <td>1616.600000</td>\n",
              "      <td>1587.990000</td>\n",
              "      <td>16271.750000</td>\n",
              "    </tr>\n",
              "  </tbody>\n",
              "</table>\n",
              "</div>"
            ],
            "text/plain": [
              "                year          month  ...  retail_transfers  warehouse_sales\n",
              "count  115255.000000  115255.000000  ...     115255.000000    115255.000000\n",
              "mean     2017.115787       7.656622  ...          7.317510        22.896380\n",
              "std         0.319970       3.396638  ...         31.305271       243.364269\n",
              "min      2017.000000       1.000000  ...        -27.660000     -4996.000000\n",
              "25%      2017.000000       5.000000  ...          0.000000         0.000000\n",
              "50%      2017.000000       8.000000  ...          0.000000         1.000000\n",
              "75%      2017.000000      11.000000  ...          4.000000         4.000000\n",
              "max      2018.000000      12.000000  ...       1587.990000     16271.750000\n",
              "\n",
              "[8 rows x 5 columns]"
            ]
          },
          "metadata": {
            "tags": []
          },
          "execution_count": 6
        }
      ]
    },
    {
      "cell_type": "markdown",
      "metadata": {
        "id": "8PTnoc-xLRO0",
        "colab_type": "text"
      },
      "source": [
        "We will remove the negative values and na values. The negative values usually represent inventory misprocessing and thus shouldn't be included."
      ]
    },
    {
      "cell_type": "code",
      "metadata": {
        "id": "5-3NOlY2_aZc",
        "colab_type": "code",
        "colab": {}
      },
      "source": [
        "def remove_negatives_and_na(df: pd.DataFrame, columns: list) -> pd.DataFrame:\n",
        "    \"\"\"\n",
        "    Function takes a dataframe and a list of column names, and procedes to \n",
        "    remove the negative values from the sales and transfers incurred. \n",
        "\n",
        "    :args: dataframe and list of column names\n",
        "    :returns: edited dataframe\n",
        "    \"\"\"\n",
        "    for column in columns:\n",
        "        df = df[df[column] >= 0]\n",
        "    return df.dropna()"
      ],
      "execution_count": null,
      "outputs": []
    },
    {
      "cell_type": "code",
      "metadata": {
        "id": "Ws-WFh0Rj8gA",
        "colab_type": "code",
        "colab": {}
      },
      "source": [
        "columns = ['retail_sales', 'retail_transfers', 'warehouse_sales']\n",
        "df = remove_negatives_and_na(df, columns)"
      ],
      "execution_count": null,
      "outputs": []
    },
    {
      "cell_type": "code",
      "metadata": {
        "id": "LxE5MW0TlnFY",
        "colab_type": "code",
        "colab": {
          "base_uri": "https://localhost:8080/",
          "height": 297
        },
        "outputId": "e1c5d9c6-3c3f-46f7-82ec-add37c7d0211"
      },
      "source": [
        "df.describe()"
      ],
      "execution_count": null,
      "outputs": [
        {
          "output_type": "execute_result",
          "data": {
            "text/html": [
              "<div>\n",
              "<style scoped>\n",
              "    .dataframe tbody tr th:only-of-type {\n",
              "        vertical-align: middle;\n",
              "    }\n",
              "\n",
              "    .dataframe tbody tr th {\n",
              "        vertical-align: top;\n",
              "    }\n",
              "\n",
              "    .dataframe thead th {\n",
              "        text-align: right;\n",
              "    }\n",
              "</style>\n",
              "<table border=\"1\" class=\"dataframe\">\n",
              "  <thead>\n",
              "    <tr style=\"text-align: right;\">\n",
              "      <th></th>\n",
              "      <th>year</th>\n",
              "      <th>month</th>\n",
              "      <th>retail_sales</th>\n",
              "      <th>retail_transfers</th>\n",
              "      <th>warehouse_sales</th>\n",
              "    </tr>\n",
              "  </thead>\n",
              "  <tbody>\n",
              "    <tr>\n",
              "      <th>count</th>\n",
              "      <td>114241.000000</td>\n",
              "      <td>114241.000000</td>\n",
              "      <td>114241.000000</td>\n",
              "      <td>114241.000000</td>\n",
              "      <td>114241.000000</td>\n",
              "    </tr>\n",
              "    <tr>\n",
              "      <th>mean</th>\n",
              "      <td>2017.115265</td>\n",
              "      <td>7.655220</td>\n",
              "      <td>6.678490</td>\n",
              "      <td>7.383867</td>\n",
              "      <td>23.508839</td>\n",
              "    </tr>\n",
              "    <tr>\n",
              "      <th>std</th>\n",
              "      <td>0.319343</td>\n",
              "      <td>3.394359</td>\n",
              "      <td>29.483569</td>\n",
              "      <td>31.435055</td>\n",
              "      <td>241.616664</td>\n",
              "    </tr>\n",
              "    <tr>\n",
              "      <th>min</th>\n",
              "      <td>2017.000000</td>\n",
              "      <td>1.000000</td>\n",
              "      <td>0.000000</td>\n",
              "      <td>0.000000</td>\n",
              "      <td>0.000000</td>\n",
              "    </tr>\n",
              "    <tr>\n",
              "      <th>25%</th>\n",
              "      <td>2017.000000</td>\n",
              "      <td>5.000000</td>\n",
              "      <td>0.000000</td>\n",
              "      <td>0.000000</td>\n",
              "      <td>0.000000</td>\n",
              "    </tr>\n",
              "    <tr>\n",
              "      <th>50%</th>\n",
              "      <td>2017.000000</td>\n",
              "      <td>8.000000</td>\n",
              "      <td>0.320000</td>\n",
              "      <td>0.000000</td>\n",
              "      <td>1.000000</td>\n",
              "    </tr>\n",
              "    <tr>\n",
              "      <th>75%</th>\n",
              "      <td>2017.000000</td>\n",
              "      <td>11.000000</td>\n",
              "      <td>3.320000</td>\n",
              "      <td>4.000000</td>\n",
              "      <td>4.000000</td>\n",
              "    </tr>\n",
              "    <tr>\n",
              "      <th>max</th>\n",
              "      <td>2018.000000</td>\n",
              "      <td>12.000000</td>\n",
              "      <td>1616.600000</td>\n",
              "      <td>1587.990000</td>\n",
              "      <td>16271.750000</td>\n",
              "    </tr>\n",
              "  </tbody>\n",
              "</table>\n",
              "</div>"
            ],
            "text/plain": [
              "                year          month  ...  retail_transfers  warehouse_sales\n",
              "count  114241.000000  114241.000000  ...     114241.000000    114241.000000\n",
              "mean     2017.115265       7.655220  ...          7.383867        23.508839\n",
              "std         0.319343       3.394359  ...         31.435055       241.616664\n",
              "min      2017.000000       1.000000  ...          0.000000         0.000000\n",
              "25%      2017.000000       5.000000  ...          0.000000         0.000000\n",
              "50%      2017.000000       8.000000  ...          0.000000         1.000000\n",
              "75%      2017.000000      11.000000  ...          4.000000         4.000000\n",
              "max      2018.000000      12.000000  ...       1587.990000     16271.750000\n",
              "\n",
              "[8 rows x 5 columns]"
            ]
          },
          "metadata": {
            "tags": []
          },
          "execution_count": 9
        }
      ]
    },
    {
      "cell_type": "code",
      "metadata": {
        "id": "DpCjLHJmthxI",
        "colab_type": "code",
        "colab": {
          "base_uri": "https://localhost:8080/",
          "height": 297
        },
        "outputId": "401b5295-69a7-4975-e966-010c1515f38e"
      },
      "source": [
        "df.groupby(by='item_type').mean()"
      ],
      "execution_count": null,
      "outputs": [
        {
          "output_type": "execute_result",
          "data": {
            "text/html": [
              "<div>\n",
              "<style scoped>\n",
              "    .dataframe tbody tr th:only-of-type {\n",
              "        vertical-align: middle;\n",
              "    }\n",
              "\n",
              "    .dataframe tbody tr th {\n",
              "        vertical-align: top;\n",
              "    }\n",
              "\n",
              "    .dataframe thead th {\n",
              "        text-align: right;\n",
              "    }\n",
              "</style>\n",
              "<table border=\"1\" class=\"dataframe\">\n",
              "  <thead>\n",
              "    <tr style=\"text-align: right;\">\n",
              "      <th></th>\n",
              "      <th>year</th>\n",
              "      <th>month</th>\n",
              "      <th>retail_sales</th>\n",
              "      <th>retail_transfers</th>\n",
              "      <th>warehouse_sales</th>\n",
              "    </tr>\n",
              "    <tr>\n",
              "      <th>item_type</th>\n",
              "      <th></th>\n",
              "      <th></th>\n",
              "      <th></th>\n",
              "      <th></th>\n",
              "      <th></th>\n",
              "    </tr>\n",
              "  </thead>\n",
              "  <tbody>\n",
              "    <tr>\n",
              "      <th>BEER</th>\n",
              "      <td>2017.116081</td>\n",
              "      <td>7.651895</td>\n",
              "      <td>13.046628</td>\n",
              "      <td>14.834068</td>\n",
              "      <td>151.661543</td>\n",
              "    </tr>\n",
              "    <tr>\n",
              "      <th>KEGS</th>\n",
              "      <td>2017.134923</td>\n",
              "      <td>8.119234</td>\n",
              "      <td>0.000000</td>\n",
              "      <td>0.000000</td>\n",
              "      <td>12.201443</td>\n",
              "    </tr>\n",
              "    <tr>\n",
              "      <th>LIQUOR</th>\n",
              "      <td>2017.117119</td>\n",
              "      <td>7.526759</td>\n",
              "      <td>11.131928</td>\n",
              "      <td>12.108459</td>\n",
              "      <td>1.185123</td>\n",
              "    </tr>\n",
              "    <tr>\n",
              "      <th>NON-ALCOHOL</th>\n",
              "      <td>2017.129151</td>\n",
              "      <td>7.767528</td>\n",
              "      <td>13.448745</td>\n",
              "      <td>15.069963</td>\n",
              "      <td>14.280849</td>\n",
              "    </tr>\n",
              "    <tr>\n",
              "      <th>REF</th>\n",
              "      <td>2017.161290</td>\n",
              "      <td>8.064516</td>\n",
              "      <td>7.660968</td>\n",
              "      <td>4.903226</td>\n",
              "      <td>0.000000</td>\n",
              "    </tr>\n",
              "    <tr>\n",
              "      <th>STR_SUPPLIES</th>\n",
              "      <td>2017.114583</td>\n",
              "      <td>7.854167</td>\n",
              "      <td>9.877292</td>\n",
              "      <td>33.184375</td>\n",
              "      <td>0.000000</td>\n",
              "    </tr>\n",
              "    <tr>\n",
              "      <th>WINE</th>\n",
              "      <td>2017.113420</td>\n",
              "      <td>7.679499</td>\n",
              "      <td>4.011560</td>\n",
              "      <td>4.391115</td>\n",
              "      <td>5.501090</td>\n",
              "    </tr>\n",
              "  </tbody>\n",
              "</table>\n",
              "</div>"
            ],
            "text/plain": [
              "                     year     month  ...  retail_transfers  warehouse_sales\n",
              "item_type                            ...                                   \n",
              "BEER          2017.116081  7.651895  ...         14.834068       151.661543\n",
              "KEGS          2017.134923  8.119234  ...          0.000000        12.201443\n",
              "LIQUOR        2017.117119  7.526759  ...         12.108459         1.185123\n",
              "NON-ALCOHOL   2017.129151  7.767528  ...         15.069963        14.280849\n",
              "REF           2017.161290  8.064516  ...          4.903226         0.000000\n",
              "STR_SUPPLIES  2017.114583  7.854167  ...         33.184375         0.000000\n",
              "WINE          2017.113420  7.679499  ...          4.391115         5.501090\n",
              "\n",
              "[7 rows x 5 columns]"
            ]
          },
          "metadata": {
            "tags": []
          },
          "execution_count": 10
        }
      ]
    },
    {
      "cell_type": "code",
      "metadata": {
        "id": "AeAQ1yz57rfH",
        "colab_type": "code",
        "colab": {
          "base_uri": "https://localhost:8080/",
          "height": 153
        },
        "outputId": "d5be0068-eae2-4009-c9c5-09e9485ceb1c"
      },
      "source": [
        "df.item_type.value_counts()"
      ],
      "execution_count": null,
      "outputs": [
        {
          "output_type": "execute_result",
          "data": {
            "text/plain": [
              "WINE            70552\n",
              "LIQUOR          25188\n",
              "BEER            14645\n",
              "KEGS             3187\n",
              "NON-ALCOHOL       542\n",
              "STR_SUPPLIES       96\n",
              "REF                31\n",
              "Name: item_type, dtype: int64"
            ]
          },
          "metadata": {
            "tags": []
          },
          "execution_count": 11
        }
      ]
    },
    {
      "cell_type": "code",
      "metadata": {
        "id": "CfS9W14p8Hmi",
        "colab_type": "code",
        "colab": {
          "base_uri": "https://localhost:8080/",
          "height": 372
        },
        "outputId": "d382cce1-8da8-4c90-85cd-6a10aa8a0903"
      },
      "source": [
        "# checking what the data looks like without the year and the month columns\n",
        "df.drop(['year', 'month'], axis=1).groupby(by='item_type').sum().plot.bar()"
      ],
      "execution_count": null,
      "outputs": [
        {
          "output_type": "execute_result",
          "data": {
            "text/plain": [
              "<matplotlib.axes._subplots.AxesSubplot at 0x7faa9fde5390>"
            ]
          },
          "metadata": {
            "tags": []
          },
          "execution_count": 12
        },
        {
          "output_type": "display_data",
          "data": {
            "image/png": "[encoded data removed]",
            "text/plain": [
              "<Figure size 432x288 with 1 Axes>"
            ]
          },
          "metadata": {
            "tags": [],
            "needs_background": "light"
          }
        }
      ]
    },
    {
      "cell_type": "code",
      "metadata": {
        "id": "BP52e2-1L2vc",
        "colab_type": "code",
        "colab": {
          "base_uri": "https://localhost:8080/",
          "height": 605
        },
        "outputId": "2e3b7ae8-c0ee-470d-eb6f-4ff39b132403"
      },
      "source": [
        "# checking what the data looks like per month\n",
        "df.drop(columns=['year']).groupby(['month', 'item_type']).sum().plot.bar()"
      ],
      "execution_count": null,
      "outputs": [
        {
          "output_type": "execute_result",
          "data": {
            "text/plain": [
              "<matplotlib.axes._subplots.AxesSubplot at 0x7faa9f2f45c0>"
            ]
          },
          "metadata": {
            "tags": []
          },
          "execution_count": 26
        },
        {
          "output_type": "display_data",
          "data": {
            "image/png": "[encoded data removed]",
            "text/plain": [
              "<Figure size 1080x576 with 1 Axes>"
            ]
          },
          "metadata": {
            "tags": [],
            "needs_background": "light"
          }
        }
      ]
    },
    {
      "cell_type": "markdown",
      "metadata": {
        "id": "mdytwWQSg9Dj",
        "colab_type": "text"
      },
      "source": [
        "Here we can see that sales are consistant for much of the year. There seems to be a drop off in the months after January and before May. This may be due to the lack of holidays throughout these months, meaning fewer reasons to purchase liquor (less holidays/parties, less reason for buying liquor). It may be a good idea to advertise for liquor sales during this period to see if sale numbers could be improved. Also, during the months of high sales it would be wise to advertise for specific liquor sales that you want to see. Because people are already purchasing more they may be inclined to buy the suggested \"deals\" if they are given advertisement for them."
      ]
    },
    {
      "cell_type": "code",
      "metadata": {
        "id": "-VFxqxC7MG1M",
        "colab_type": "code",
        "colab": {}
      },
      "source": [
        "def print_totals(df: pd.DataFrame, columns: list):\n",
        "    \"\"\"\n",
        "    Printing the totals for each of the liquor types and their sales.\n",
        "    \"\"\"\n",
        "    for item in df.item_type.unique():\n",
        "        print(item)\n",
        "        total = 0\n",
        "        for col in columns:\n",
        "            sum_total = df[df.item_type == item][col].sum()\n",
        "            print(f\"{col}: { round(sum_total, 2) }\")\n",
        "            total += sum_total\n",
        "        print(f\"total: { round(total, 2) }\")\n",
        "        print()"
      ],
      "execution_count": null,
      "outputs": []
    },
    {
      "cell_type": "code",
      "metadata": {
        "id": "EAPVjGu6GUut",
        "colab_type": "code",
        "colab": {}
      },
      "source": [
        "print_totals(df, columns)"
      ],
      "execution_count": null,
      "outputs": []
    },
    {
      "cell_type": "code",
      "metadata": {
        "id": "beAhT52-Kp2L",
        "colab_type": "code",
        "colab": {}
      },
      "source": [
        "def get_totals(df: pd.DataFrame, columns: list) -> dict:\n",
        "    \"\"\"\n",
        "    Function gets the sums for each item types sales and produces the sums.\n",
        "    args: dataframe and list\n",
        "    returns: sums of item types\n",
        "    \"\"\"\n",
        "    sums = dict()\n",
        "    for item in df.item_type.unique():\n",
        "        sums[item] = []\n",
        "        for col in columns:\n",
        "            sums.get(item).append(df[df.item_type == item][col].sum())\n",
        "        sums.get(item).append(sum(sums.get(item)))\n",
        "    return sums"
      ],
      "execution_count": null,
      "outputs": []
    },
    {
      "cell_type": "code",
      "metadata": {
        "id": "qvZU_nCTOCuJ",
        "colab_type": "code",
        "colab": {}
      },
      "source": [
        "sums = get_totals(df, columns)\n",
        "counts = dict(df.item_type.value_counts())"
      ],
      "execution_count": null,
      "outputs": []
    },
    {
      "cell_type": "code",
      "metadata": {
        "id": "QFhokD6YoAWO",
        "colab_type": "code",
        "colab": {
          "base_uri": "https://localhost:8080/",
          "height": 374
        },
        "outputId": "06b5c796-a365-49c4-99b9-e06c43ead83d"
      },
      "source": [
        "for key in sums.keys():\n",
        "    print(key)\n",
        "    print(round(sums.get(key)[-1] / counts.get(key), 2))\n",
        "    print()"
      ],
      "execution_count": null,
      "outputs": [
        {
          "output_type": "stream",
          "text": [
            "WINE\n",
            "13.9\n",
            "\n",
            "LIQUOR\n",
            "24.43\n",
            "\n",
            "BEER\n",
            "179.54\n",
            "\n",
            "STR_SUPPLIES\n",
            "43.06\n",
            "\n",
            "REF\n",
            "12.56\n",
            "\n",
            "NON-ALCOHOL\n",
            "42.8\n",
            "\n",
            "KEGS\n",
            "12.2\n",
            "\n"
          ],
          "name": "stdout"
        }
      ]
    },
    {
      "cell_type": "code",
      "metadata": {
        "id": "wFvTLYsepYlt",
        "colab_type": "code",
        "colab": {}
      },
      "source": [
        "# getting the total amount of profit for each of the alcohol sales\n",
        "drinks = { 'WINE': 17, 'BEER': 15, 'LIQUOR': 17, 'NON-ALCOHOL': 10, 'KEGS': 150 }\n",
        "total_profit = dict()\n",
        "warehouse_profit = dict()\n",
        "retail_profit = dict()\n",
        "transfer_profit = dict()\n",
        "\n",
        "for drink in drinks.keys():\n",
        "    total_profit[drink] = drinks.get(drink) * sums.get(drink)[3]\n",
        "    warehouse_profit[drink] = drinks.get(drink) * sums.get(drink)[2]\n",
        "    transfer_profit[drink] = drinks.get(drink) * sums.get(drink)[1]\n",
        "    retail_profit[drink] = drinks.get(drink) * sums.get(drink)[0]"
      ],
      "execution_count": null,
      "outputs": []
    },
    {
      "cell_type": "code",
      "metadata": {
        "id": "3AELMZZ_pElA",
        "colab_type": "code",
        "colab": {}
      },
      "source": [
        "# making a bar graph for each of the different profit dictionaries\n",
        "totals = [retail_profit, transfer_profit, warehouse_profit, total_profit]\n",
        "for total in totals:\n",
        "    plt.bar(list(total.keys()), list(total.values()))\n",
        "    plt.show()"
      ],
      "execution_count": null,
      "outputs": []
    },
    {
      "cell_type": "code",
      "metadata": {
        "id": "OcN4e_CTpW4d",
        "colab_type": "code",
        "colab": {
          "base_uri": "https://localhost:8080/",
          "height": 119
        },
        "outputId": "08225ff4-8936-4491-db8e-564956f06028"
      },
      "source": [
        "# getting the sum of the total profits and then getting percentages \n",
        "# of each of the different sales\n",
        "sum_total = 0\n",
        "for _, value in total_profit.items():\n",
        "    sum_total += value\n",
        "print(f\"Total profit gained: { round(sum_total, 2) }\")\n",
        "\n",
        "# determining the percentages of each of the liquor types\n",
        "percentages = dict()\n",
        "for key, value in total_profit.items():\n",
        "    percentages[key] = value / sum_total\n",
        "percentages"
      ],
      "execution_count": null,
      "outputs": [
        {
          "output_type": "stream",
          "text": [
            "Total profit gained: 72640672.67\n"
          ],
          "name": "stdout"
        },
        {
          "output_type": "execute_result",
          "data": {
            "text/plain": [
              "{'BEER': 0.5429594709175757,\n",
              " 'KEGS': 0.0802979898947018,\n",
              " 'LIQUOR': 0.14398140236825538,\n",
              " 'NON-ALCOHOL': 0.0031934395907074692,\n",
              " 'WINE': 0.22956769722875975}"
            ]
          },
          "metadata": {
            "tags": []
          },
          "execution_count": 21
        }
      ]
    },
    {
      "cell_type": "markdown",
      "metadata": {
        "id": "PXAW0hLqvLEM",
        "colab_type": "text"
      },
      "source": [
        "Looking above we see that the beer sales for warehouses far outpaces the liquor and wine sales. Beer sales make up half of the total profits while wine and liquor make up the majority of the remaining percentages. "
      ]
    },
    {
      "cell_type": "code",
      "metadata": {
        "id": "KVX9LKCUyTdi",
        "colab_type": "code",
        "colab": {}
      },
      "source": [
        "# making a sale amount dataframe\n",
        "sum_df = pd.DataFrame(\n",
        "    sums.values(), \n",
        "    index=sums.keys(), \n",
        "    columns=['retail', 'transfers', 'warehouses', 'total'])"
      ],
      "execution_count": null,
      "outputs": []
    },
    {
      "cell_type": "code",
      "metadata": {
        "id": "HHeZ9mEjyXde",
        "colab_type": "code",
        "colab": {
          "base_uri": "https://localhost:8080/",
          "height": 204
        },
        "outputId": "763ab52b-7807-4432-82e0-29c178a4d6e7"
      },
      "source": [
        "sum_df.head()"
      ],
      "execution_count": null,
      "outputs": [
        {
          "output_type": "execute_result",
          "data": {
            "text/html": [
              "<div>\n",
              "<style scoped>\n",
              "    .dataframe tbody tr th:only-of-type {\n",
              "        vertical-align: middle;\n",
              "    }\n",
              "\n",
              "    .dataframe tbody tr th {\n",
              "        vertical-align: top;\n",
              "    }\n",
              "\n",
              "    .dataframe thead th {\n",
              "        text-align: right;\n",
              "    }\n",
              "</style>\n",
              "<table border=\"1\" class=\"dataframe\">\n",
              "  <thead>\n",
              "    <tr style=\"text-align: right;\">\n",
              "      <th></th>\n",
              "      <th>retail</th>\n",
              "      <th>transfers</th>\n",
              "      <th>warehouses</th>\n",
              "      <th>total</th>\n",
              "    </tr>\n",
              "  </thead>\n",
              "  <tbody>\n",
              "    <tr>\n",
              "      <th>WINE</th>\n",
              "      <td>283023.55</td>\n",
              "      <td>309801.92</td>\n",
              "      <td>388112.88</td>\n",
              "      <td>980938.35</td>\n",
              "    </tr>\n",
              "    <tr>\n",
              "      <th>LIQUOR</th>\n",
              "      <td>280391.00</td>\n",
              "      <td>304987.87</td>\n",
              "      <td>29850.89</td>\n",
              "      <td>615229.76</td>\n",
              "    </tr>\n",
              "    <tr>\n",
              "      <th>BEER</th>\n",
              "      <td>191067.86</td>\n",
              "      <td>217244.92</td>\n",
              "      <td>2221083.30</td>\n",
              "      <td>2629396.08</td>\n",
              "    </tr>\n",
              "    <tr>\n",
              "      <th>STR_SUPPLIES</th>\n",
              "      <td>948.22</td>\n",
              "      <td>3185.70</td>\n",
              "      <td>0.00</td>\n",
              "      <td>4133.92</td>\n",
              "    </tr>\n",
              "    <tr>\n",
              "      <th>REF</th>\n",
              "      <td>237.49</td>\n",
              "      <td>152.00</td>\n",
              "      <td>0.00</td>\n",
              "      <td>389.49</td>\n",
              "    </tr>\n",
              "  </tbody>\n",
              "</table>\n",
              "</div>"
            ],
            "text/plain": [
              "                 retail  transfers  warehouses       total\n",
              "WINE          283023.55  309801.92   388112.88   980938.35\n",
              "LIQUOR        280391.00  304987.87    29850.89   615229.76\n",
              "BEER          191067.86  217244.92  2221083.30  2629396.08\n",
              "STR_SUPPLIES     948.22    3185.70        0.00     4133.92\n",
              "REF              237.49     152.00        0.00      389.49"
            ]
          },
          "metadata": {
            "tags": []
          },
          "execution_count": 23
        }
      ]
    },
    {
      "cell_type": "code",
      "metadata": {
        "id": "hKvwnPpryZFJ",
        "colab_type": "code",
        "colab": {
          "base_uri": "https://localhost:8080/",
          "height": 357
        },
        "outputId": "7c05e923-4526-4a38-e6de-13a7b98c4bc6"
      },
      "source": [
        "sum_df.plot.bar()"
      ],
      "execution_count": null,
      "outputs": [
        {
          "output_type": "execute_result",
          "data": {
            "text/plain": [
              "<matplotlib.axes._subplots.AxesSubplot at 0x7faa9f3b99b0>"
            ]
          },
          "metadata": {
            "tags": []
          },
          "execution_count": 24
        },
        {
          "output_type": "display_data",
          "data": {
            "image/png": "[encoded data removed]",
            "text/plain": [
              "<Figure size 432x288 with 1 Axes>"
            ]
          },
          "metadata": {
            "tags": [],
            "needs_background": "light"
          }
        }
      ]
    },
    {
      "cell_type": "code",
      "metadata": {
        "id": "pzKRX8MynTAF",
        "colab_type": "code",
        "colab": {}
      },
      "source": [
        "sales_df = pd.read_csv(dir+'total_sales.csv')"
      ],
      "execution_count": null,
      "outputs": []
    },
    {
      "cell_type": "code",
      "metadata": {
        "id": "Hd1yjVS0nueb",
        "colab_type": "code",
        "colab": {
          "base_uri": "https://localhost:8080/",
          "height": 204
        },
        "outputId": "4dcb2a1f-87b7-48ff-c197-1b33a3902dd5"
      },
      "source": [
        "sales_df.head()"
      ],
      "execution_count": null,
      "outputs": [
        {
          "output_type": "execute_result",
          "data": {
            "text/html": [
              "<div>\n",
              "<style scoped>\n",
              "    .dataframe tbody tr th:only-of-type {\n",
              "        vertical-align: middle;\n",
              "    }\n",
              "\n",
              "    .dataframe tbody tr th {\n",
              "        vertical-align: top;\n",
              "    }\n",
              "\n",
              "    .dataframe thead th {\n",
              "        text-align: right;\n",
              "    }\n",
              "</style>\n",
              "<table border=\"1\" class=\"dataframe\">\n",
              "  <thead>\n",
              "    <tr style=\"text-align: right;\">\n",
              "      <th></th>\n",
              "      <th>DATE</th>\n",
              "      <th>MRTSSM4453USN</th>\n",
              "    </tr>\n",
              "  </thead>\n",
              "  <tbody>\n",
              "    <tr>\n",
              "      <th>0</th>\n",
              "      <td>1992-01-01</td>\n",
              "      <td>1509</td>\n",
              "    </tr>\n",
              "    <tr>\n",
              "      <th>1</th>\n",
              "      <td>1992-02-01</td>\n",
              "      <td>1541</td>\n",
              "    </tr>\n",
              "    <tr>\n",
              "      <th>2</th>\n",
              "      <td>1992-03-01</td>\n",
              "      <td>1597</td>\n",
              "    </tr>\n",
              "    <tr>\n",
              "      <th>3</th>\n",
              "      <td>1992-04-01</td>\n",
              "      <td>1675</td>\n",
              "    </tr>\n",
              "    <tr>\n",
              "      <th>4</th>\n",
              "      <td>1992-05-01</td>\n",
              "      <td>1822</td>\n",
              "    </tr>\n",
              "  </tbody>\n",
              "</table>\n",
              "</div>"
            ],
            "text/plain": [
              "         DATE  MRTSSM4453USN\n",
              "0  1992-01-01           1509\n",
              "1  1992-02-01           1541\n",
              "2  1992-03-01           1597\n",
              "3  1992-04-01           1675\n",
              "4  1992-05-01           1822"
            ]
          },
          "metadata": {
            "tags": []
          },
          "execution_count": 28
        }
      ]
    },
    {
      "cell_type": "code",
      "metadata": {
        "id": "4GLUji1Pnv36",
        "colab_type": "code",
        "colab": {}
      },
      "source": [
        "sales_df.columns = ['date', 'total']"
      ],
      "execution_count": null,
      "outputs": []
    },
    {
      "cell_type": "code",
      "metadata": {
        "id": "LXGWRL_Hp7y6",
        "colab_type": "code",
        "colab": {
          "base_uri": "https://localhost:8080/",
          "height": 419
        },
        "outputId": "108f5c89-b7c9-43f8-97da-1464d05997cf"
      },
      "source": [
        "sales_df"
      ],
      "execution_count": null,
      "outputs": [
        {
          "output_type": "execute_result",
          "data": {
            "text/html": [
              "<div>\n",
              "<style scoped>\n",
              "    .dataframe tbody tr th:only-of-type {\n",
              "        vertical-align: middle;\n",
              "    }\n",
              "\n",
              "    .dataframe tbody tr th {\n",
              "        vertical-align: top;\n",
              "    }\n",
              "\n",
              "    .dataframe thead th {\n",
              "        text-align: right;\n",
              "    }\n",
              "</style>\n",
              "<table border=\"1\" class=\"dataframe\">\n",
              "  <thead>\n",
              "    <tr style=\"text-align: right;\">\n",
              "      <th></th>\n",
              "      <th>date</th>\n",
              "      <th>total</th>\n",
              "    </tr>\n",
              "  </thead>\n",
              "  <tbody>\n",
              "    <tr>\n",
              "      <th>0</th>\n",
              "      <td>1992-01-01</td>\n",
              "      <td>1509</td>\n",
              "    </tr>\n",
              "    <tr>\n",
              "      <th>1</th>\n",
              "      <td>1992-02-01</td>\n",
              "      <td>1541</td>\n",
              "    </tr>\n",
              "    <tr>\n",
              "      <th>2</th>\n",
              "      <td>1992-03-01</td>\n",
              "      <td>1597</td>\n",
              "    </tr>\n",
              "    <tr>\n",
              "      <th>3</th>\n",
              "      <td>1992-04-01</td>\n",
              "      <td>1675</td>\n",
              "    </tr>\n",
              "    <tr>\n",
              "      <th>4</th>\n",
              "      <td>1992-05-01</td>\n",
              "      <td>1822</td>\n",
              "    </tr>\n",
              "    <tr>\n",
              "      <th>...</th>\n",
              "      <td>...</td>\n",
              "      <td>...</td>\n",
              "    </tr>\n",
              "    <tr>\n",
              "      <th>337</th>\n",
              "      <td>2020-02-01</td>\n",
              "      <td>4533</td>\n",
              "    </tr>\n",
              "    <tr>\n",
              "      <th>338</th>\n",
              "      <td>2020-03-01</td>\n",
              "      <td>5521</td>\n",
              "    </tr>\n",
              "    <tr>\n",
              "      <th>339</th>\n",
              "      <td>2020-04-01</td>\n",
              "      <td>5211</td>\n",
              "    </tr>\n",
              "    <tr>\n",
              "      <th>340</th>\n",
              "      <td>2020-05-01</td>\n",
              "      <td>6263</td>\n",
              "    </tr>\n",
              "    <tr>\n",
              "      <th>341</th>\n",
              "      <td>2020-06-01</td>\n",
              "      <td>6057</td>\n",
              "    </tr>\n",
              "  </tbody>\n",
              "</table>\n",
              "<p>342 rows × 2 columns</p>\n",
              "</div>"
            ],
            "text/plain": [
              "           date  total\n",
              "0    1992-01-01   1509\n",
              "1    1992-02-01   1541\n",
              "2    1992-03-01   1597\n",
              "3    1992-04-01   1675\n",
              "4    1992-05-01   1822\n",
              "..          ...    ...\n",
              "337  2020-02-01   4533\n",
              "338  2020-03-01   5521\n",
              "339  2020-04-01   5211\n",
              "340  2020-05-01   6263\n",
              "341  2020-06-01   6057\n",
              "\n",
              "[342 rows x 2 columns]"
            ]
          },
          "metadata": {
            "tags": []
          },
          "execution_count": 32
        }
      ]
    },
    {
      "cell_type": "code",
      "metadata": {
        "id": "uAJxVgtNqIRo",
        "colab_type": "code",
        "colab": {}
      },
      "source": [
        "sales_df.index = sales_df.date"
      ],
      "execution_count": null,
      "outputs": []
    },
    {
      "cell_type": "code",
      "metadata": {
        "id": "dXXKrZwsqMnn",
        "colab_type": "code",
        "colab": {}
      },
      "source": [
        "sales_df = sales_df.drop('date', axis=1)"
      ],
      "execution_count": null,
      "outputs": []
    },
    {
      "cell_type": "code",
      "metadata": {
        "id": "AQZZZ1bWqNWn",
        "colab_type": "code",
        "colab": {
          "base_uri": "https://localhost:8080/",
          "height": 450
        },
        "outputId": "61d50b30-95df-4f14-90ae-6ccbba449dea"
      },
      "source": [
        "sales_df\n"
      ],
      "execution_count": null,
      "outputs": [
        {
          "output_type": "execute_result",
          "data": {
            "text/html": [
              "<div>\n",
              "<style scoped>\n",
              "    .dataframe tbody tr th:only-of-type {\n",
              "        vertical-align: middle;\n",
              "    }\n",
              "\n",
              "    .dataframe tbody tr th {\n",
              "        vertical-align: top;\n",
              "    }\n",
              "\n",
              "    .dataframe thead th {\n",
              "        text-align: right;\n",
              "    }\n",
              "</style>\n",
              "<table border=\"1\" class=\"dataframe\">\n",
              "  <thead>\n",
              "    <tr style=\"text-align: right;\">\n",
              "      <th></th>\n",
              "      <th>total</th>\n",
              "    </tr>\n",
              "    <tr>\n",
              "      <th>date</th>\n",
              "      <th></th>\n",
              "    </tr>\n",
              "  </thead>\n",
              "  <tbody>\n",
              "    <tr>\n",
              "      <th>1992-01-01</th>\n",
              "      <td>1509</td>\n",
              "    </tr>\n",
              "    <tr>\n",
              "      <th>1992-02-01</th>\n",
              "      <td>1541</td>\n",
              "    </tr>\n",
              "    <tr>\n",
              "      <th>1992-03-01</th>\n",
              "      <td>1597</td>\n",
              "    </tr>\n",
              "    <tr>\n",
              "      <th>1992-04-01</th>\n",
              "      <td>1675</td>\n",
              "    </tr>\n",
              "    <tr>\n",
              "      <th>1992-05-01</th>\n",
              "      <td>1822</td>\n",
              "    </tr>\n",
              "    <tr>\n",
              "      <th>...</th>\n",
              "      <td>...</td>\n",
              "    </tr>\n",
              "    <tr>\n",
              "      <th>2020-02-01</th>\n",
              "      <td>4533</td>\n",
              "    </tr>\n",
              "    <tr>\n",
              "      <th>2020-03-01</th>\n",
              "      <td>5521</td>\n",
              "    </tr>\n",
              "    <tr>\n",
              "      <th>2020-04-01</th>\n",
              "      <td>5211</td>\n",
              "    </tr>\n",
              "    <tr>\n",
              "      <th>2020-05-01</th>\n",
              "      <td>6263</td>\n",
              "    </tr>\n",
              "    <tr>\n",
              "      <th>2020-06-01</th>\n",
              "      <td>6057</td>\n",
              "    </tr>\n",
              "  </tbody>\n",
              "</table>\n",
              "<p>342 rows × 1 columns</p>\n",
              "</div>"
            ],
            "text/plain": [
              "            total\n",
              "date             \n",
              "1992-01-01   1509\n",
              "1992-02-01   1541\n",
              "1992-03-01   1597\n",
              "1992-04-01   1675\n",
              "1992-05-01   1822\n",
              "...           ...\n",
              "2020-02-01   4533\n",
              "2020-03-01   5521\n",
              "2020-04-01   5211\n",
              "2020-05-01   6263\n",
              "2020-06-01   6057\n",
              "\n",
              "[342 rows x 1 columns]"
            ]
          },
          "metadata": {
            "tags": []
          },
          "execution_count": 36
        }
      ]
    },
    {
      "cell_type": "code",
      "metadata": {
        "id": "s0O-ryW2qWL3",
        "colab_type": "code",
        "colab": {
          "base_uri": "https://localhost:8080/",
          "height": 514
        },
        "outputId": "813d5127-ee50-44c6-c604-120a4a753179"
      },
      "source": [
        "sales_df.plot()"
      ],
      "execution_count": null,
      "outputs": [
        {
          "output_type": "execute_result",
          "data": {
            "text/plain": [
              "<matplotlib.axes._subplots.AxesSubplot at 0x7faa9f47efd0>"
            ]
          },
          "metadata": {
            "tags": []
          },
          "execution_count": 38
        },
        {
          "output_type": "display_data",
          "data": {
            "image/png": "[encoded data removed]",
            "text/plain": [
              "<Figure size 1080x576 with 1 Axes>"
            ]
          },
          "metadata": {
            "tags": [],
            "needs_background": "light"
          }
        }
      ]
    },
    {
      "cell_type": "markdown",
      "metadata": {
        "id": "kDbkfeDhrSra",
        "colab_type": "text"
      },
      "source": [
        "We can see that alcohol sales have increased over the last ~30 years. The beginning sale amount in January of 2017 is around the peak sales of 2004. Another trend that we see is the same as above, showing that the sales of alcohol peak towards the end of the year (holiday season) and begin to spike during the summer time. \n",
        "\n",
        "An interesting abnormality is the year of 2020, which saw a pandemic begin in February causing the amount of sales to increase abnormally. This caused the spike to begin in March, and it still hasn't slowed."
      ]
    },
    {
      "cell_type": "code",
      "metadata": {
        "id": "ENLSxeQmsQwW",
        "colab_type": "code",
        "colab": {}
      },
      "source": [
        "pandemic_df = sales_df.tail(24)"
      ],
      "execution_count": null,
      "outputs": []
    },
    {
      "cell_type": "code",
      "metadata": {
        "id": "ImSnpz8wtrwH",
        "colab_type": "code",
        "colab": {
          "base_uri": "https://localhost:8080/",
          "height": 530
        },
        "outputId": "c621db0a-ad31-45a6-f67c-f3980a791eb2"
      },
      "source": [
        "pandemic_df.plot(title='Total sales from 2018 to 2020')"
      ],
      "execution_count": null,
      "outputs": [
        {
          "output_type": "execute_result",
          "data": {
            "text/plain": [
              "<matplotlib.axes._subplots.AxesSubplot at 0x7faa9598a828>"
            ]
          },
          "metadata": {
            "tags": []
          },
          "execution_count": 57
        },
        {
          "output_type": "display_data",
          "data": {
            "image/png": "[encoded data removed]",
            "text/plain": [
              "<Figure size 1080x576 with 1 Axes>"
            ]
          },
          "metadata": {
            "tags": [],
            "needs_background": "light"
          }
        }
      ]
    },
    {
      "cell_type": "markdown",
      "metadata": {
        "id": "1INeRzTQuFFk",
        "colab_type": "text"
      },
      "source": [
        "As can be seen above the max peak in 2018 and 2019 have almost been reached by June of 2020. With people being home and not having anything to do, people have been buying liquor at a rate that was only matched during the holiday seasons of previous years."
      ]
    },
    {
      "cell_type": "code",
      "metadata": {
        "id": "XVXZTkyYvctd",
        "colab_type": "code",
        "colab": {}
      },
      "source": [
        ""
      ],
      "execution_count": null,
      "outputs": []
    },
    {
      "cell_type": "code",
      "metadata": {
        "id": "60yxgsCQuiqO",
        "colab_type": "code",
        "colab": {}
      },
      "source": [
        ""
      ],
      "execution_count": null,
      "outputs": []
    }
  ]
}